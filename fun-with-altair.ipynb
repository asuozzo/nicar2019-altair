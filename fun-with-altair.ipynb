{
 "cells": [
  {
   "cell_type": "markdown",
   "metadata": {},
   "source": [
    "## Creating charts with Altair\n",
    "\n",
    "Welcome! This notebook will walk you through creating charts with the Python library Altair.\n",
    "\n",
    "We'll use Pandas and Numpy to work with our datasets, but you don't need to know too much about them — just run the cells with code in it, and that will let you use the variables.\n",
    "\n",
    "Try to use [Altair documentation](LINK) or Google to solve the chart prompts. If you get stuck, solutions are in the `fun-with-altair-SOLUTIONS.ipynb` file."
   ]
  },
  {
   "cell_type": "code",
   "execution_count": null,
   "metadata": {},
   "outputs": [],
   "source": [
    "import pandas as pd\n",
    "import numpy as np\n",
    "import altair as alt"
   ]
  },
  {
   "cell_type": "markdown",
   "metadata": {},
   "source": [
    "We're going to import our first dataset. It's a file with data on internet access in Vermont households between 2013 and 2017."
   ]
  },
  {
   "cell_type": "code",
   "execution_count": null,
   "metadata": {},
   "outputs": [],
   "source": [
    "internet_vt = pd.read_csv(\"data/internet-vt-5yr.csv\")\n",
    "internet_vt.head()"
   ]
  },
  {
   "cell_type": "markdown",
   "metadata": {},
   "source": [
    "Great.\n",
    "\n",
    "Now that we have that in place, let's make a line chart that looks at the `year` on the x-axis and the number of households that report `no-internet` access on the y-axis.\n",
    "\n",
    "The x-axis numbering probablylooks a bit weird, so read up on specifying data types in the Altair documentation and see if you can fix that."
   ]
  },
  {
   "cell_type": "code",
   "execution_count": null,
   "metadata": {},
   "outputs": [],
   "source": []
  },
  {
   "cell_type": "markdown",
   "metadata": {},
   "source": [
    "Next, we're going to read in a file with a subset of that data, so we can focus in on the households without internet. While we're at it, let's also recast the year column to datetime format."
   ]
  },
  {
   "cell_type": "code",
   "execution_count": null,
   "metadata": {},
   "outputs": [],
   "source": [
    "nointernet = pd.read_csv(\"data/internet-vt-pct-5yr.csv\")\n",
    "nointernet[\"year\"] = pd.to_datetime(\n",
    "    nointernet[\"year\"], format=\"%Y\"\n",
    ")\n",
    "nointernet.head()"
   ]
  },
  {
   "cell_type": "markdown",
   "metadata": {},
   "source": [
    "Create an area chart that shows the households with `no-internet` by year.\n",
    "\n",
    "That's interesting, but we don't know anything about how the *proportion* of households changed over those years. Luckily, there's a column for that. Change the the y-axis to `no-internet-pct`."
   ]
  },
  {
   "cell_type": "code",
   "execution_count": null,
   "metadata": {},
   "outputs": [],
   "source": []
  },
  {
   "cell_type": "markdown",
   "metadata": {},
   "source": [
    "That's great, but what does it look like in context? For that, we'll need to reformat our first `internet_vt` dataset. We're just changing it from wide (each category gets a column) to long (there's a category column and a value column). That means there are multiple rows per year. "
   ]
  },
  {
   "cell_type": "code",
   "execution_count": null,
   "metadata": {},
   "outputs": [],
   "source": [
    "internet_vt_long = pd.melt(internet_vt,\n",
    "                           id_vars=[\"year\"])\n",
    "internet_vt_long.head()"
   ]
  },
  {
   "cell_type": "markdown",
   "metadata": {},
   "source": [
    "Now we can create an chart that shows us all three categories. Create an area chart using the `internet_vt_long` dataset. How do you get it to show the different categories separately for each year?\n",
    "\n",
    "Bonus: Figure out how to create a tooltip so when you hover over each area, it tells you the year, category and value."
   ]
  },
  {
   "cell_type": "code",
   "execution_count": null,
   "metadata": {},
   "outputs": [],
   "source": []
  },
  {
   "cell_type": "markdown",
   "metadata": {},
   "source": [
    "You're making good progress! Let's load in a new dataset and run through a couple other chart types quickly."
   ]
  },
  {
   "cell_type": "code",
   "execution_count": null,
   "metadata": {},
   "outputs": [],
   "source": [
    "rural_internet = pd.read_csv(\"data/internetrural-vt-county-2017.csv\")\n",
    "rural_internet.head()"
   ]
  },
  {
   "cell_type": "markdown",
   "metadata": {},
   "source": [
    "Create a bar chart using `county-name` and `no-internet-pct`."
   ]
  },
  {
   "cell_type": "code",
   "execution_count": null,
   "metadata": {},
   "outputs": [],
   "source": []
  },
  {
   "cell_type": "markdown",
   "metadata": {},
   "source": [
    "Cool. How about a scatterplot comparing `no-internet-pct` and `rural-pct`? This would be a good time to practice those tooltip skills."
   ]
  },
  {
   "cell_type": "code",
   "execution_count": null,
   "metadata": {},
   "outputs": [],
   "source": []
  },
  {
   "cell_type": "markdown",
   "metadata": {},
   "source": [
    "Now that you've got that down, save each of those charts to a variable and put them into one chart. Try concatenating them vertically."
   ]
  },
  {
   "cell_type": "code",
   "execution_count": null,
   "metadata": {},
   "outputs": [],
   "source": []
  },
  {
   "cell_type": "markdown",
   "metadata": {},
   "source": [
    "Almost done, but there's one more cool thing we should cover: maps! Altair's map handling is still relatively new and is the most difficult part of the library to use, since it involves geojson files and map projections. But it's fun to use!\n",
    "\n",
    "For that, let's load in a national version of this data. We'll look at the percentage of households without internet access in every county across the nation in 2017."
   ]
  },
  {
   "cell_type": "code",
   "execution_count": null,
   "metadata": {},
   "outputs": [],
   "source": [
    "internet_natl = pd.read_csv(\"data/internet-natl-county-2017.csv\")\n",
    "internet_natl.head()"
   ]
  },
  {
   "cell_type": "markdown",
   "metadata": {},
   "source": [
    "Now, use the `no-internet-pct` column and the `data/us-10m.json` dataset to create a national map of internet access. You're going to need to use the `.transform_lookup` function to merge the two datasets, using the `id` column in the json file and the `code` column in the `internet_natl` file.\n",
    "\n",
    "Good luck!"
   ]
  },
  {
   "cell_type": "code",
   "execution_count": null,
   "metadata": {},
   "outputs": [],
   "source": []
  }
 ],
 "metadata": {
  "kernelspec": {
   "display_name": "Python 3",
   "language": "python",
   "name": "python3"
  },
  "language_info": {
   "codemirror_mode": {
    "name": "ipython",
    "version": 3
   },
   "file_extension": ".py",
   "mimetype": "text/x-python",
   "name": "python",
   "nbconvert_exporter": "python",
   "pygments_lexer": "ipython3",
   "version": "3.7.2"
  }
 },
 "nbformat": 4,
 "nbformat_minor": 2
}
